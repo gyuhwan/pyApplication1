{
 "cells": [
  {
   "cell_type": "code",
   "execution_count": 31,
   "metadata": {},
   "outputs": [
    {
     "name": "stdout",
     "output_type": "stream",
     "text": [
      "나는 빨간색과 파란색을 좋아 합니다.\n",
      "나는 빨강색과 파랑색을 좋아 합나다.\n",
      "나는 파랑색과 파랑색을 좋아 합나다.\n",
      "나는 빨강색과 파랑색을 좋아 합나다.\n",
      "나는 red색과 blue색을 좋아 합나다.\n"
     ]
    }
   ],
   "source": [
    "red1 = \"red\"\n",
    "blue1 = \"blue\"\n",
    "\n",
    "print(\"나는 %s색과 %s색을 좋아 합니다.\" %(\"빨간\", \"파란\"))\n",
    "print(\"나는 {}색과 {}색을 좋아 합나다.\".format(\"빨강\", \"파랑\"))\n",
    "print(\"나는 {1}색과 {1}색을 좋아 합나다.\".format(\"빨강\", \"파랑\"))\n",
    "print(\"나는 {red}색과 {blue}색을 좋아 합나다.\".format(red=\"빨강\", blue=\"파랑\"))\n",
    "print(f\"나는 {red1}색과 {blue1}색을 좋아 합나다.\")"
   ]
  },
  {
   "cell_type": "code",
   "execution_count": 9,
   "metadata": {},
   "outputs": [
    {
     "name": "stdout",
     "output_type": "stream",
     "text": [
      "URL : http:\\\\www.naver.com\n",
      "SITE : naver.com\n",
      "PASSWORD : naver15!\n"
     ]
    }
   ],
   "source": [
    "url = \"http:\\\\\\\\www.naver.com\"\n",
    "site = url.replace(\"http:\\\\\\\\www.\", \"\")\n",
    "password = site[: site.index(\".\")]\n",
    "password = password + str(password.count(\"e\")) + str(len(password)) + \"!\"\n",
    "\n",
    "print(\"URL : \" + url )\n",
    "print(\"SITE : \" + site)\n",
    "print (\"PASSWORD : \" + password)"
   ]
  },
  {
   "cell_type": "code",
   "execution_count": 11,
   "metadata": {},
   "outputs": [
    {
     "name": "stdout",
     "output_type": "stream",
     "text": [
      "유재석\n",
      "유재석\n",
      "{10: '유재석', 20: '조세호', 'a-1': '김종국'}\n",
      "True\n",
      "{10: '유재석', 20: '조세호'}\n",
      "keys : dict_keys([10, 20])\n",
      "values : dict_values(['유재석', '조세호'])\n",
      "{}\n"
     ]
    }
   ],
   "source": [
    "cabinet = {10:\"유재석\", 20:\"조세호\"}\n",
    "\n",
    "print(cabinet[10])\n",
    "print( cabinet.get(10))\n",
    "\n",
    "cabinet[\"a-1\"] = \"김종국\"\n",
    "print(cabinet)\n",
    "print(10 in cabinet)\n",
    "del cabinet[\"a-1\"]\n",
    "print(cabinet)\n",
    "print(f\"keys : %s\" %( cabinet.keys()))\n",
    "print(f\"values : %s\" %( cabinet.values()))\n",
    "cabinet.clear()\n",
    "print(cabinet)\n"
   ]
  },
  {
   "cell_type": "code",
   "execution_count": 5,
   "metadata": {},
   "outputs": [
    {
     "name": "stdout",
     "output_type": "stream",
     "text": [
      "국어       :   70\n",
      "영어       :   80\n",
      "수학       :   99\n"
     ]
    }
   ],
   "source": [
    "scores = {\"국어\":70, \"영어\":80, \"수학\":99}\n",
    "for subject , score in scores.items() :\n",
    "    print( subject.ljust(8), str(score).rjust(4), sep=\" : \")"
   ]
  },
  {
   "cell_type": "code",
   "execution_count": 8,
   "metadata": {},
   "outputs": [
    {
     "name": "stdout",
     "output_type": "stream",
     "text": [
      "대기번호 : 0001\n",
      "대기번호 : 0002\n",
      "대기번호 : 0003\n",
      "대기번호 : 0004\n",
      "대기번호 : 0005\n",
      "대기번호 : 0006\n",
      "대기번호 : 0007\n",
      "대기번호 : 0008\n",
      "대기번호 : 0009\n",
      "대기번호 : 0010\n",
      "대기번호 : 0011\n",
      "대기번호 : 0012\n",
      "대기번호 : 0013\n",
      "대기번호 : 0014\n",
      "대기번호 : 0015\n",
      "대기번호 : 0016\n",
      "대기번호 : 0017\n",
      "대기번호 : 0018\n",
      "대기번호 : 0019\n",
      "대기번호 : 0020\n"
     ]
    }
   ],
   "source": [
    "for num in range( 1, 21) :\n",
    "    print( \"대기번호 : \" + str(num).zfill(4))"
   ]
  }
 ],
 "metadata": {
  "kernelspec": {
   "display_name": "Python 3",
   "language": "python",
   "name": "python3"
  },
  "language_info": {
   "codemirror_mode": {
    "name": "ipython",
    "version": 3
   },
   "file_extension": ".py",
   "mimetype": "text/x-python",
   "name": "python",
   "nbconvert_exporter": "python",
   "pygments_lexer": "ipython3",
   "version": "3.9.13"
  }
 },
 "nbformat": 4,
 "nbformat_minor": 2
}
